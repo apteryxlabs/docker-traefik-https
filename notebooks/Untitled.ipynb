{
 "cells": [
  {
   "cell_type": "code",
   "execution_count": 1,
   "id": "e2d4d747",
   "metadata": {},
   "outputs": [],
   "source": [
    "import subprocess"
   ]
  },
  {
   "cell_type": "code",
   "execution_count": 50,
   "id": "07ab38cb",
   "metadata": {},
   "outputs": [],
   "source": [
    "!rm .env"
   ]
  },
  {
   "cell_type": "code",
   "execution_count": 51,
   "id": "1766fd31",
   "metadata": {},
   "outputs": [],
   "source": [
    "!touch .env"
   ]
  },
  {
   "cell_type": "code",
   "execution_count": 52,
   "id": "4c839d09",
   "metadata": {},
   "outputs": [],
   "source": [
    "def concat_hashed_pass(password):\n",
    "    with open('.env', 'r') as f:\n",
    "        env = f.read()\n",
    "    hashed = subprocess.check_output(f\"openssl passwd -apr1 {password}\".split())\n",
    "    env += 'HASHED_PASSWORD='+hashed.decode('utf-8').strip()\n",
    "    with open('.env', 'w') as f:\n",
    "        f.write(env)"
   ]
  },
  {
   "cell_type": "code",
   "execution_count": 53,
   "id": "b8a33cdc",
   "metadata": {},
   "outputs": [],
   "source": [
    "concat_hashed_pass('poop')"
   ]
  },
  {
   "cell_type": "code",
   "execution_count": 54,
   "id": "e9fae65a",
   "metadata": {},
   "outputs": [
    {
     "name": "stdout",
     "output_type": "stream",
     "text": [
      "HASHED_PASSWORD=$apr1$EOAOMQ6I$hLYCDNIThdpUl82mtIXsd1"
     ]
    }
   ],
   "source": [
    "!cat .env"
   ]
  },
  {
   "cell_type": "code",
   "execution_count": null,
   "id": "d4558b9e",
   "metadata": {},
   "outputs": [],
   "source": []
  }
 ],
 "metadata": {
  "kernelspec": {
   "display_name": "Python 3",
   "language": "python",
   "name": "python3"
  },
  "language_info": {
   "codemirror_mode": {
    "name": "ipython",
    "version": 3
   },
   "file_extension": ".py",
   "mimetype": "text/x-python",
   "name": "python",
   "nbconvert_exporter": "python",
   "pygments_lexer": "ipython3",
   "version": "3.8.8"
  }
 },
 "nbformat": 4,
 "nbformat_minor": 5
}
